{
 "cells": [
  {
   "cell_type": "code",
   "execution_count": 2,
   "id": "51bde920-4d18-4948-a986-33a045840142",
   "metadata": {},
   "outputs": [],
   "source": [
    "import pandas as pd\n",
    "import requests"
   ]
  },
  {
   "cell_type": "markdown",
   "id": "20bded22-f2e4-439c-8c4b-75560548a7ba",
   "metadata": {},
   "source": [
    "### here we use \"requests.get()\" method for loading API file"
   ]
  },
  {
   "cell_type": "code",
   "execution_count": 24,
   "id": "81b2eef7-5b99-4bc4-a361-ba1efd42154a",
   "metadata": {},
   "outputs": [],
   "source": [
    "response = requests.get('https://api.themoviedb.org/3/movie/top_rated?api_key=8265bd1679663a7ea12ac168da84d2e8&language=en-US&page=1')"
   ]
  },
  {
   "cell_type": "markdown",
   "id": "14268e4b-794b-4683-a97b-a1871be1c8b1",
   "metadata": {},
   "source": [
    "### Here we use json() method for converting good data in pandas"
   ]
  },
  {
   "cell_type": "code",
   "execution_count": 28,
   "id": "65beaa55-752d-4671-b51c-956007c8fbe3",
   "metadata": {},
   "outputs": [],
   "source": [
    "temp_df = pd.DataFrame(response.json() ['results'])[[\"id\",\"adult\",\"popularity\",\"release_date\",\"title\",\"vote_average\",\"vote_count\"]]"
   ]
  },
  {
   "cell_type": "code",
   "execution_count": 29,
   "id": "bac8ae9c-3043-4086-b7a9-9b758e565ba8",
   "metadata": {},
   "outputs": [
    {
     "data": {
      "text/html": [
       "<div>\n",
       "<style scoped>\n",
       "    .dataframe tbody tr th:only-of-type {\n",
       "        vertical-align: middle;\n",
       "    }\n",
       "\n",
       "    .dataframe tbody tr th {\n",
       "        vertical-align: top;\n",
       "    }\n",
       "\n",
       "    .dataframe thead th {\n",
       "        text-align: right;\n",
       "    }\n",
       "</style>\n",
       "<table border=\"1\" class=\"dataframe\">\n",
       "  <thead>\n",
       "    <tr style=\"text-align: right;\">\n",
       "      <th></th>\n",
       "      <th>id</th>\n",
       "      <th>adult</th>\n",
       "      <th>popularity</th>\n",
       "      <th>release_date</th>\n",
       "      <th>title</th>\n",
       "      <th>vote_average</th>\n",
       "      <th>vote_count</th>\n",
       "    </tr>\n",
       "  </thead>\n",
       "  <tbody>\n",
       "    <tr>\n",
       "      <th>0</th>\n",
       "      <td>851644</td>\n",
       "      <td>False</td>\n",
       "      <td>311.047</td>\n",
       "      <td>2022-10-06</td>\n",
       "      <td>20th Century Girl</td>\n",
       "      <td>8.7</td>\n",
       "      <td>270</td>\n",
       "    </tr>\n",
       "    <tr>\n",
       "      <th>1</th>\n",
       "      <td>238</td>\n",
       "      <td>False</td>\n",
       "      <td>98.788</td>\n",
       "      <td>1972-03-14</td>\n",
       "      <td>The Godfather</td>\n",
       "      <td>8.7</td>\n",
       "      <td>16943</td>\n",
       "    </tr>\n",
       "    <tr>\n",
       "      <th>2</th>\n",
       "      <td>278</td>\n",
       "      <td>False</td>\n",
       "      <td>73.744</td>\n",
       "      <td>1994-09-23</td>\n",
       "      <td>The Shawshank Redemption</td>\n",
       "      <td>8.7</td>\n",
       "      <td>22698</td>\n",
       "    </tr>\n",
       "    <tr>\n",
       "      <th>3</th>\n",
       "      <td>240</td>\n",
       "      <td>False</td>\n",
       "      <td>53.048</td>\n",
       "      <td>1974-12-20</td>\n",
       "      <td>The Godfather Part II</td>\n",
       "      <td>8.6</td>\n",
       "      <td>10273</td>\n",
       "    </tr>\n",
       "    <tr>\n",
       "      <th>4</th>\n",
       "      <td>667257</td>\n",
       "      <td>False</td>\n",
       "      <td>49.795</td>\n",
       "      <td>2021-06-17</td>\n",
       "      <td>Impossible Things</td>\n",
       "      <td>8.6</td>\n",
       "      <td>281</td>\n",
       "    </tr>\n",
       "  </tbody>\n",
       "</table>\n",
       "</div>"
      ],
      "text/plain": [
       "       id  adult  popularity release_date                     title  \\\n",
       "0  851644  False     311.047   2022-10-06         20th Century Girl   \n",
       "1     238  False      98.788   1972-03-14             The Godfather   \n",
       "2     278  False      73.744   1994-09-23  The Shawshank Redemption   \n",
       "3     240  False      53.048   1974-12-20     The Godfather Part II   \n",
       "4  667257  False      49.795   2021-06-17         Impossible Things   \n",
       "\n",
       "   vote_average  vote_count  \n",
       "0           8.7         270  \n",
       "1           8.7       16943  \n",
       "2           8.7       22698  \n",
       "3           8.6       10273  \n",
       "4           8.6         281  "
      ]
     },
     "execution_count": 29,
     "metadata": {},
     "output_type": "execute_result"
    }
   ],
   "source": [
    "temp_df.head()"
   ]
  },
  {
   "cell_type": "markdown",
   "id": "0b834180-08c2-4ac2-90d2-a408c633a7d1",
   "metadata": {},
   "source": [
    "### We have seen in \"json viewer\" that this file has apprax 500 pages and we have to do same thing in each pages so "
   ]
  },
  {
   "cell_type": "code",
   "execution_count": 30,
   "id": "413614e4-e60d-4c76-a165-50c23a282ddd",
   "metadata": {},
   "outputs": [],
   "source": [
    "df = pd.DataFrame()"
   ]
  },
  {
   "cell_type": "code",
   "execution_count": null,
   "id": "02771e47-2719-4551-a4b1-76147b1e7b97",
   "metadata": {},
   "outputs": [],
   "source": [
    "for i in range(1,528):\n",
    "    response = requests.get('https://api.themoviedb.org/3/movie/top_rated?api_key=8265bd1679663a7ea12ac168da84d2e8&language=en-US&page={}'.format(i))\n",
    "    temp_df = pd.DataFrame(response.json() ['results'])[[\"id\",\"adult\",\"popularity\",\"release_date\",\"title\",\"vote_average\",\"vote_count\"]]\n",
    "    df = df.append(temp_df,ignore_index=True)\n",
    "    \n",
    "    "
   ]
  },
  {
   "cell_type": "code",
   "execution_count": null,
   "id": "f792aa54-2373-4a2b-9b5a-787830e35847",
   "metadata": {},
   "outputs": [],
   "source": [
    "df.head()"
   ]
  },
  {
   "cell_type": "code",
   "execution_count": null,
   "id": "e96773d0-6055-4045-9cbf-4efbb8a864ed",
   "metadata": {},
   "outputs": [],
   "source": []
  }
 ],
 "metadata": {
  "kernelspec": {
   "display_name": "Python 3 (ipykernel)",
   "language": "python",
   "name": "python3"
  },
  "language_info": {
   "codemirror_mode": {
    "name": "ipython",
    "version": 3
   },
   "file_extension": ".py",
   "mimetype": "text/x-python",
   "name": "python",
   "nbconvert_exporter": "python",
   "pygments_lexer": "ipython3",
   "version": "3.9.13"
  }
 },
 "nbformat": 4,
 "nbformat_minor": 5
}
