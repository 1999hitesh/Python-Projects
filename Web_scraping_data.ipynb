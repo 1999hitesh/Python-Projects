{
 "cells": [
  {
   "cell_type": "markdown",
   "id": "745442f7-9b56-4dda-b6db-c45a23a35a16",
   "metadata": {},
   "source": [
    "### For Web Scraping we need \"Internet-Connetion \""
   ]
  },
  {
   "cell_type": "code",
   "execution_count": 1,
   "id": "a9c61668-eac4-41ba-af88-60bee4f1a8e2",
   "metadata": {},
   "outputs": [],
   "source": [
    "import pandas as pd\n",
    "import numpy as np\n",
    "import requests\n",
    "from bs4 import BeautifulSoup"
   ]
  },
  {
   "cell_type": "code",
   "execution_count": 2,
   "id": "7d385d0f-87c0-459a-b86a-1f321dc68c49",
   "metadata": {},
   "outputs": [
    {
     "data": {
      "text/plain": [
       "<Response [403]>"
      ]
     },
     "execution_count": 2,
     "metadata": {},
     "output_type": "execute_result"
    }
   ],
   "source": [
    "requests.get('https://www.ambitionbox.com/list-of-companies?page=1')"
   ]
  },
  {
   "cell_type": "markdown",
   "id": "3044bc87-1941-44a8-a916-7e8744aec2f7",
   "metadata": {},
   "source": [
    "### so we found \"Respose [403] \" it means that the site is not giving us permition so"
   ]
  },
  {
   "cell_type": "code",
   "execution_count": 3,
   "id": "e4876b34-90fb-4abd-bd47-882cf92cef2c",
   "metadata": {},
   "outputs": [
    {
     "data": {
      "text/plain": [
       "'<HTML><HEAD>\\n<TITLE>Access Denied</TITLE>\\n</HEAD><BODY>\\n<H1>Access Denied</H1>\\n \\nYou don\\'t have permission to access \"http&#58;&#47;&#47;www&#46;ambitionbox&#46;com&#47;list&#45;of&#45;companies&#63;\" on this server.<P>\\nReference&#32;&#35;18&#46;1ef63717&#46;1669450711&#46;abf2979\\n</BODY>\\n</HTML>\\n'"
      ]
     },
     "execution_count": 3,
     "metadata": {},
     "output_type": "execute_result"
    }
   ],
   "source": [
    "requests.get('https://www.ambitionbox.com/list-of-companies?page=1').text"
   ]
  },
  {
   "cell_type": "markdown",
   "id": "b67193cc-abad-4c7e-8c72-753f4458dc08",
   "metadata": {},
   "source": [
    "### Here we see that the site thing we are \"Bot\" so We make site beleave that we are human"
   ]
  },
  {
   "cell_type": "code",
   "execution_count": 4,
   "id": "bbef7b2d-1ffb-4aca-b63e-559b86e43c67",
   "metadata": {},
   "outputs": [],
   "source": [
    "headers={'User-Agent':'Mozilla/5.0 (Windows NT 6.3; Win 64 ; x64) Apple WeKit /537.36(KHTML , like Gecko) Chrome/80.0.3987.162 Safari/537.36'}"
   ]
  },
  {
   "cell_type": "code",
   "execution_count": 5,
   "id": "15e1fcfd-2548-45dd-bafa-0b8a9589eb58",
   "metadata": {},
   "outputs": [],
   "source": [
    "webpage=requests.get('https://www.ambitionbox.com/list-of-companies?page=1',headers = headers).text"
   ]
  },
  {
   "cell_type": "markdown",
   "id": "211cdd30-e03f-4f91-918f-141a5eee38d1",
   "metadata": {},
   "source": [
    "### For Understanding data we need to use \"BeautifulSoup - laibrary \" and go to page to able to understand data and Watch \"100Days-of-ML\" in YouTube , Video Name \"Feching data using Web scaping\""
   ]
  },
  {
   "cell_type": "code",
   "execution_count": 6,
   "id": "053120b9-2eb8-4d54-8c8a-54cd01ecd0eb",
   "metadata": {},
   "outputs": [],
   "source": [
    "soup = BeautifulSoup(webpage,'lxml') # Making this data little bit readable"
   ]
  },
  {
   "cell_type": "markdown",
   "id": "633ed8dc-3e1c-4e30-8402-bc879165e127",
   "metadata": {},
   "source": [
    "### for extracting values from this data we have to find valuable data so we need to go site and click ringh on the mouse and select inspect and then find botten  and click it help to find data  "
   ]
  },
  {
   "cell_type": "code",
   "execution_count": 7,
   "id": "f95a0ae3-bb4a-4877-8d33-4d3d0676b7d2",
   "metadata": {},
   "outputs": [
    {
     "data": {
      "text/plain": [
       "[<h1 class=\"bold-title-l title\">List of companies in India</h1>]"
      ]
     },
     "execution_count": 7,
     "metadata": {},
     "output_type": "execute_result"
    }
   ],
   "source": [
    "soup.find_all('h1')"
   ]
  },
  {
   "cell_type": "markdown",
   "id": "2f0afbac-b951-4225-9797-16112c3d3d8d",
   "metadata": {},
   "source": [
    "##### so need text from this list"
   ]
  },
  {
   "cell_type": "code",
   "execution_count": 8,
   "id": "bd8cc5bd-643d-4c8d-8a8d-70011a38626f",
   "metadata": {},
   "outputs": [
    {
     "data": {
      "text/plain": [
       "'List of companies in India'"
      ]
     },
     "execution_count": 8,
     "metadata": {},
     "output_type": "execute_result"
    }
   ],
   "source": [
    "soup.find_all('h1')[0].text #we need indexing"
   ]
  },
  {
   "cell_type": "markdown",
   "id": "57b1aff6-3a33-42bc-8d40-014898c886da",
   "metadata": {},
   "source": [
    "### We need Company name"
   ]
  },
  {
   "cell_type": "code",
   "execution_count": 9,
   "id": "48405a4f-c4a6-42d1-982a-d97f49765055",
   "metadata": {},
   "outputs": [
    {
     "data": {
      "text/plain": [
       "30"
      ]
     },
     "execution_count": 9,
     "metadata": {},
     "output_type": "execute_result"
    }
   ],
   "source": [
    "len(soup.find_all('h2')) # we use len to find the leght of company names"
   ]
  },
  {
   "cell_type": "code",
   "execution_count": 10,
   "id": "34f57697-fa30-40d4-9607-a492aa97695f",
   "metadata": {},
   "outputs": [
    {
     "data": {
      "text/plain": [
       "[<h2 class=\"company-name bold-title-l\" title=\"TCS\">\n",
       " \t\t\t\t\t\t\t\t\tTCS\n",
       " \t\t\t\t\t\t\t\t</h2>,\n",
       " <h2 class=\"company-name bold-title-l\" title=\"Accenture\">\n",
       " \t\t\t\t\t\t\t\t\tAccenture\n",
       " \t\t\t\t\t\t\t\t</h2>,\n",
       " <h2 class=\"company-name bold-title-l\" title=\"Cognizant\">\n",
       " \t\t\t\t\t\t\t\t\tCognizant\n",
       " \t\t\t\t\t\t\t\t</h2>,\n",
       " <h2 class=\"company-name bold-title-l\" title=\"ICICI Bank\">\n",
       " \t\t\t\t\t\t\t\t\tICICI Bank\n",
       " \t\t\t\t\t\t\t\t</h2>,\n",
       " <h2 class=\"company-name bold-title-l\" title=\"HDFC Bank\">\n",
       " \t\t\t\t\t\t\t\t\tHDFC Bank\n",
       " \t\t\t\t\t\t\t\t</h2>,\n",
       " <h2 class=\"company-name bold-title-l\" title=\"Wipro\">\n",
       " \t\t\t\t\t\t\t\t\tWipro\n",
       " \t\t\t\t\t\t\t\t</h2>,\n",
       " <h2 class=\"company-name bold-title-l\" title=\"Infosys\">\n",
       " \t\t\t\t\t\t\t\t\tInfosys\n",
       " \t\t\t\t\t\t\t\t</h2>,\n",
       " <h2 class=\"company-name bold-title-l\" title=\"Capgemini\">\n",
       " \t\t\t\t\t\t\t\t\tCapgemini\n",
       " \t\t\t\t\t\t\t\t</h2>,\n",
       " <h2 class=\"company-name bold-title-l\" title=\"Tech Mahindra\">\n",
       " \t\t\t\t\t\t\t\t\tTech Mahindra\n",
       " \t\t\t\t\t\t\t\t</h2>,\n",
       " <h2 class=\"company-name bold-title-l\" title=\"Genpact\">\n",
       " \t\t\t\t\t\t\t\t\tGenpact\n",
       " \t\t\t\t\t\t\t\t</h2>,\n",
       " <h2 class=\"company-name bold-title-l\" title=\"HCLTech\">\n",
       " \t\t\t\t\t\t\t\t\tHCLTech\n",
       " \t\t\t\t\t\t\t\t</h2>,\n",
       " <h2 class=\"company-name bold-title-l\" title=\"Amazon\">\n",
       " \t\t\t\t\t\t\t\t\tAmazon\n",
       " \t\t\t\t\t\t\t\t</h2>,\n",
       " <h2 class=\"company-name bold-title-l\" title=\"Axis Bank\">\n",
       " \t\t\t\t\t\t\t\t\tAxis Bank\n",
       " \t\t\t\t\t\t\t\t</h2>,\n",
       " <h2 class=\"company-name bold-title-l\" title=\"IBM\">\n",
       " \t\t\t\t\t\t\t\t\tIBM\n",
       " \t\t\t\t\t\t\t\t</h2>,\n",
       " <h2 class=\"company-name bold-title-l\" title=\"Concentrix Corporation\">\n",
       " \t\t\t\t\t\t\t\t\tConcentrix Corpo...\n",
       " \t\t\t\t\t\t\t\t</h2>,\n",
       " <h2 class=\"company-name bold-title-l\" title=\"Reliance jio\">\n",
       " \t\t\t\t\t\t\t\t\tReliance jio\n",
       " \t\t\t\t\t\t\t\t</h2>,\n",
       " <h2 class=\"company-name bold-title-l\" title=\"Larsen &amp; Toubro Limited\">\n",
       " \t\t\t\t\t\t\t\t\tLarsen &amp; Toubro ...\n",
       " \t\t\t\t\t\t\t\t</h2>,\n",
       " <h2 class=\"company-name bold-title-l\" title=\"Vodafone Idea\">\n",
       " \t\t\t\t\t\t\t\t\tVodafone Idea\n",
       " \t\t\t\t\t\t\t\t</h2>,\n",
       " <h2 class=\"company-name bold-title-l\" title=\"HDB Financial Services\">\n",
       " \t\t\t\t\t\t\t\t\tHDB Financial Se...\n",
       " \t\t\t\t\t\t\t\t</h2>,\n",
       " <h2 class=\"company-name bold-title-l\" title=\"Teleperformance\">\n",
       " \t\t\t\t\t\t\t\t\tTeleperformance\n",
       " \t\t\t\t\t\t\t\t</h2>,\n",
       " <h2 class=\"company-name bold-title-l\" title=\"Kotak Mahindra Bank\">\n",
       " \t\t\t\t\t\t\t\t\tKotak Mahindra B...\n",
       " \t\t\t\t\t\t\t\t</h2>,\n",
       " <h2 class=\"company-name bold-title-l\" title=\"Reliance Industries \">\n",
       " \t\t\t\t\t\t\t\t\tReliance Industr...\n",
       " \t\t\t\t\t\t\t\t</h2>,\n",
       " <h2 class=\"company-name bold-title-l\" title=\"Bharti Airtel\">\n",
       " \t\t\t\t\t\t\t\t\tBharti Airtel\n",
       " \t\t\t\t\t\t\t\t</h2>,\n",
       " <h2 class=\"company-name bold-title-l\" title=\"Reliance Retail\">\n",
       " \t\t\t\t\t\t\t\t\tReliance Retail\n",
       " \t\t\t\t\t\t\t\t</h2>,\n",
       " <h2 class=\"company-name bold-title-l\" title=\"Deloitte\">\n",
       " \t\t\t\t\t\t\t\t\tDeloitte\n",
       " \t\t\t\t\t\t\t\t</h2>,\n",
       " <h2 class=\"company-name bold-title-l\" title=\"Tata Motors\">\n",
       " \t\t\t\t\t\t\t\t\tTata Motors\n",
       " \t\t\t\t\t\t\t\t</h2>,\n",
       " <h2 class=\"company-name bold-title-l\" title=\"BYJU'S\">\n",
       " \t\t\t\t\t\t\t\t\tBYJU'S\n",
       " \t\t\t\t\t\t\t\t</h2>,\n",
       " <h2 class=\"company-name bold-title-l\" title=\"WNS\">\n",
       " \t\t\t\t\t\t\t\t\tWNS\n",
       " \t\t\t\t\t\t\t\t</h2>,\n",
       " <h2 class=\"company-name bold-title-l\" title=\"Mahindra &amp; Mahindra\">\n",
       " \t\t\t\t\t\t\t\t\tMahindra &amp; Mahin...\n",
       " \t\t\t\t\t\t\t\t</h2>,\n",
       " <h2 class=\"company-name bold-title-l\" title=\"Flipkart\">\n",
       " \t\t\t\t\t\t\t\t\tFlipkart\n",
       " \t\t\t\t\t\t\t\t</h2>]"
      ]
     },
     "execution_count": 10,
     "metadata": {},
     "output_type": "execute_result"
    }
   ],
   "source": [
    "soup.find_all('h2')"
   ]
  },
  {
   "cell_type": "markdown",
   "id": "df420201-2ef9-41f0-96f7-3608fa5e3d2c",
   "metadata": {},
   "source": [
    "#### so need text from this list"
   ]
  },
  {
   "cell_type": "markdown",
   "id": "a31a1150-b24f-4e71-be91-87a9ed78bc3e",
   "metadata": {},
   "source": [
    "#### there is so many values so we need Loop"
   ]
  },
  {
   "cell_type": "code",
   "execution_count": 11,
   "id": "5cbddd31-4071-4013-bb1d-04db3eb6c59b",
   "metadata": {},
   "outputs": [
    {
     "name": "stdout",
     "output_type": "stream",
     "text": [
      "\n",
      "\t\t\t\t\t\t\t\t\tTCS\n",
      "\t\t\t\t\t\t\t\t\n",
      "\n",
      "\t\t\t\t\t\t\t\t\tAccenture\n",
      "\t\t\t\t\t\t\t\t\n",
      "\n",
      "\t\t\t\t\t\t\t\t\tCognizant\n",
      "\t\t\t\t\t\t\t\t\n",
      "\n",
      "\t\t\t\t\t\t\t\t\tICICI Bank\n",
      "\t\t\t\t\t\t\t\t\n",
      "\n",
      "\t\t\t\t\t\t\t\t\tHDFC Bank\n",
      "\t\t\t\t\t\t\t\t\n",
      "\n",
      "\t\t\t\t\t\t\t\t\tWipro\n",
      "\t\t\t\t\t\t\t\t\n",
      "\n",
      "\t\t\t\t\t\t\t\t\tInfosys\n",
      "\t\t\t\t\t\t\t\t\n",
      "\n",
      "\t\t\t\t\t\t\t\t\tCapgemini\n",
      "\t\t\t\t\t\t\t\t\n",
      "\n",
      "\t\t\t\t\t\t\t\t\tTech Mahindra\n",
      "\t\t\t\t\t\t\t\t\n",
      "\n",
      "\t\t\t\t\t\t\t\t\tGenpact\n",
      "\t\t\t\t\t\t\t\t\n",
      "\n",
      "\t\t\t\t\t\t\t\t\tHCLTech\n",
      "\t\t\t\t\t\t\t\t\n",
      "\n",
      "\t\t\t\t\t\t\t\t\tAmazon\n",
      "\t\t\t\t\t\t\t\t\n",
      "\n",
      "\t\t\t\t\t\t\t\t\tAxis Bank\n",
      "\t\t\t\t\t\t\t\t\n",
      "\n",
      "\t\t\t\t\t\t\t\t\tIBM\n",
      "\t\t\t\t\t\t\t\t\n",
      "\n",
      "\t\t\t\t\t\t\t\t\tConcentrix Corpo...\n",
      "\t\t\t\t\t\t\t\t\n",
      "\n",
      "\t\t\t\t\t\t\t\t\tReliance jio\n",
      "\t\t\t\t\t\t\t\t\n",
      "\n",
      "\t\t\t\t\t\t\t\t\tLarsen & Toubro ...\n",
      "\t\t\t\t\t\t\t\t\n",
      "\n",
      "\t\t\t\t\t\t\t\t\tVodafone Idea\n",
      "\t\t\t\t\t\t\t\t\n",
      "\n",
      "\t\t\t\t\t\t\t\t\tHDB Financial Se...\n",
      "\t\t\t\t\t\t\t\t\n",
      "\n",
      "\t\t\t\t\t\t\t\t\tTeleperformance\n",
      "\t\t\t\t\t\t\t\t\n",
      "\n",
      "\t\t\t\t\t\t\t\t\tKotak Mahindra B...\n",
      "\t\t\t\t\t\t\t\t\n",
      "\n",
      "\t\t\t\t\t\t\t\t\tReliance Industr...\n",
      "\t\t\t\t\t\t\t\t\n",
      "\n",
      "\t\t\t\t\t\t\t\t\tBharti Airtel\n",
      "\t\t\t\t\t\t\t\t\n",
      "\n",
      "\t\t\t\t\t\t\t\t\tReliance Retail\n",
      "\t\t\t\t\t\t\t\t\n",
      "\n",
      "\t\t\t\t\t\t\t\t\tDeloitte\n",
      "\t\t\t\t\t\t\t\t\n",
      "\n",
      "\t\t\t\t\t\t\t\t\tTata Motors\n",
      "\t\t\t\t\t\t\t\t\n",
      "\n",
      "\t\t\t\t\t\t\t\t\tBYJU'S\n",
      "\t\t\t\t\t\t\t\t\n",
      "\n",
      "\t\t\t\t\t\t\t\t\tWNS\n",
      "\t\t\t\t\t\t\t\t\n",
      "\n",
      "\t\t\t\t\t\t\t\t\tMahindra & Mahin...\n",
      "\t\t\t\t\t\t\t\t\n",
      "\n",
      "\t\t\t\t\t\t\t\t\tFlipkart\n",
      "\t\t\t\t\t\t\t\t\n"
     ]
    }
   ],
   "source": [
    "for i in soup.find_all('h2') :\n",
    "    print(i.text)"
   ]
  },
  {
   "cell_type": "markdown",
   "id": "29d97be6-35d9-4337-9aa5-7016e0d844bc",
   "metadata": {},
   "source": [
    "### we Extract values but there is problem in python we do not able to se but there is HTML \"Space And / \" are there and we need to put this values in manner ways So need to Use \"Strip()\" funtion"
   ]
  },
  {
   "cell_type": "code",
   "execution_count": 12,
   "id": "07ee4616-f3a8-48ee-a7c4-3ab45f9349aa",
   "metadata": {},
   "outputs": [
    {
     "name": "stdout",
     "output_type": "stream",
     "text": [
      "TCS\n",
      "Accenture\n",
      "Cognizant\n",
      "ICICI Bank\n",
      "HDFC Bank\n",
      "Wipro\n",
      "Infosys\n",
      "Capgemini\n",
      "Tech Mahindra\n",
      "Genpact\n",
      "HCLTech\n",
      "Amazon\n",
      "Axis Bank\n",
      "IBM\n",
      "Concentrix Corpo...\n",
      "Reliance jio\n",
      "Larsen & Toubro ...\n",
      "Vodafone Idea\n",
      "HDB Financial Se...\n",
      "Teleperformance\n",
      "Kotak Mahindra B...\n",
      "Reliance Industr...\n",
      "Bharti Airtel\n",
      "Reliance Retail\n",
      "Deloitte\n",
      "Tata Motors\n",
      "BYJU'S\n",
      "WNS\n",
      "Mahindra & Mahin...\n",
      "Flipkart\n"
     ]
    }
   ],
   "source": [
    "for i in soup.find_all('h2'):\n",
    "    print(i.text.strip())"
   ]
  },
  {
   "cell_type": "markdown",
   "id": "3db9355e-b154-4706-87f3-f573b0e9de03",
   "metadata": {},
   "source": [
    "### We need Reviews of Company"
   ]
  },
  {
   "cell_type": "code",
   "execution_count": 13,
   "id": "5244abac-d474-4d92-b6f0-c43e96c72ae5",
   "metadata": {},
   "outputs": [
    {
     "data": {
      "text/plain": [
       "428"
      ]
     },
     "execution_count": 13,
     "metadata": {},
     "output_type": "execute_result"
    }
   ],
   "source": [
    "len(soup.find_all('a'))"
   ]
  },
  {
   "cell_type": "markdown",
   "id": "5947cb4f-3f15-43f2-9ef0-52fdd088ba24",
   "metadata": {},
   "source": [
    "### so we find it that the lenth of this Review is more than 30 so need to go the web page and find a and its class name"
   ]
  },
  {
   "cell_type": "code",
   "execution_count": 14,
   "id": "ec60e176-cc33-4e2b-9505-a8f48fd28273",
   "metadata": {},
   "outputs": [
    {
     "data": {
      "text/plain": [
       "30"
      ]
     },
     "execution_count": 14,
     "metadata": {},
     "output_type": "execute_result"
    }
   ],
   "source": [
    "len(soup.find_all('a',class_='review-count sbold-Labels'))"
   ]
  },
  {
   "cell_type": "code",
   "execution_count": 15,
   "id": "2a891829-bea5-4fbe-9036-576cd45a3271",
   "metadata": {},
   "outputs": [
    {
     "name": "stdout",
     "output_type": "stream",
     "text": [
      "(50.5k Reviews)\n",
      "(32.8k Reviews)\n",
      "(30k Reviews)\n",
      "(35.2k Reviews)\n",
      "(40.3k Reviews)\n",
      "(29.1k Reviews)\n",
      "(28.6k Reviews)\n",
      "(24.3k Reviews)\n",
      "(22.1k Reviews)\n",
      "(21.3k Reviews)\n",
      "(18.8k Reviews)\n",
      "(18.6k Reviews)\n",
      "(19.3k Reviews)\n",
      "(15.8k Reviews)\n",
      "(15.3k Reviews)\n",
      "(15.2k Reviews)\n",
      "(25.1k Reviews)\n",
      "(14k Reviews)\n",
      "(13.5k Reviews)\n",
      "(14.6k Reviews)\n",
      "(13.9k Reviews)\n",
      "(44.5k Reviews)\n",
      "(13k Reviews)\n",
      "(16k Reviews)\n",
      "(10.4k Reviews)\n",
      "(12.6k Reviews)\n",
      "(12.4k Reviews)\n",
      "(7.1k Reviews)\n",
      "(40.1k Reviews)\n",
      "(11.7k Reviews)\n"
     ]
    }
   ],
   "source": [
    "for i in soup.find_all('a',class_ = 'review-count sbold-Labels'):\n",
    "    print(i.text.strip())"
   ]
  },
  {
   "cell_type": "code",
   "execution_count": 16,
   "id": "47ca9bad-c963-454a-9e48-bcb19ac3a0d8",
   "metadata": {},
   "outputs": [
    {
     "data": {
      "text/plain": [
       "229"
      ]
     },
     "execution_count": 16,
     "metadata": {},
     "output_type": "execute_result"
    }
   ],
   "source": [
    "len(soup.find_all('p')) "
   ]
  },
  {
   "cell_type": "markdown",
   "id": "86749bd3-52d3-405e-8cc5-6302fdddcde6",
   "metadata": {},
   "source": [
    "### Here Our apprach is wronge, Why! , we need to find container  so we need to go to web page and click botten in find a box which contain all the values like campany name , rating ,reviews ets but \"We Need to understand Little-Bit of HTMl\" "
   ]
  },
  {
   "cell_type": "code",
   "execution_count": 17,
   "id": "de605644-4021-475a-9ca1-d19d3771bde1",
   "metadata": {},
   "outputs": [],
   "source": [
    "company = soup.find_all('div',class_='company-content-wrapper')"
   ]
  },
  {
   "cell_type": "code",
   "execution_count": 18,
   "id": "ac5f5983-848f-40f0-9c51-11e365ef7663",
   "metadata": {},
   "outputs": [
    {
     "data": {
      "text/plain": [
       "30"
      ]
     },
     "execution_count": 18,
     "metadata": {},
     "output_type": "execute_result"
    }
   ],
   "source": [
    "len(company)"
   ]
  },
  {
   "cell_type": "markdown",
   "id": "f7cd0e36-747a-41a4-8c9c-078939659203",
   "metadata": {},
   "source": [
    "### here what we did is we extract values values from a perticuler container before we run the loop in whole HMTL columns  but now we run it into this only  Container "
   ]
  },
  {
   "cell_type": "code",
   "execution_count": 19,
   "id": "91edf259-fff8-4bbf-9cde-f82dceed954e",
   "metadata": {},
   "outputs": [],
   "source": [
    "name=[]\n",
    "\n",
    "for i in company :\n",
    "    name.append(i.find('h2').text.strip())"
   ]
  },
  {
   "cell_type": "code",
   "execution_count": 20,
   "id": "8915318f-2d04-4f1e-b5f9-2ed7ad7facba",
   "metadata": {},
   "outputs": [
    {
     "data": {
      "text/plain": [
       "['TCS',\n",
       " 'Accenture',\n",
       " 'Cognizant',\n",
       " 'ICICI Bank',\n",
       " 'HDFC Bank',\n",
       " 'Wipro',\n",
       " 'Infosys',\n",
       " 'Capgemini',\n",
       " 'Tech Mahindra',\n",
       " 'Genpact',\n",
       " 'HCLTech',\n",
       " 'Amazon',\n",
       " 'Axis Bank',\n",
       " 'IBM',\n",
       " 'Concentrix Corpo...',\n",
       " 'Reliance jio',\n",
       " 'Larsen & Toubro ...',\n",
       " 'Vodafone Idea',\n",
       " 'HDB Financial Se...',\n",
       " 'Teleperformance',\n",
       " 'Kotak Mahindra B...',\n",
       " 'Reliance Industr...',\n",
       " 'Bharti Airtel',\n",
       " 'Reliance Retail',\n",
       " 'Deloitte',\n",
       " 'Tata Motors',\n",
       " \"BYJU'S\",\n",
       " 'WNS',\n",
       " 'Mahindra & Mahin...',\n",
       " 'Flipkart']"
      ]
     },
     "execution_count": 20,
     "metadata": {},
     "output_type": "execute_result"
    }
   ],
   "source": [
    "name"
   ]
  },
  {
   "cell_type": "markdown",
   "id": "1ba67de5-bc47-4352-853d-38850b222871",
   "metadata": {},
   "source": [
    "### so we find find good way to extract valueable values"
   ]
  },
  {
   "cell_type": "code",
   "execution_count": 21,
   "id": "c10b26dd-e8dc-4e9a-bd44-5ae13cfaea74",
   "metadata": {},
   "outputs": [],
   "source": [
    "a=company[0].find_all('p',class_='infoEntity')[0].text.strip()\n",
    "b=company[1].find_all('p',class_='infoEntity')[1].text.strip()\n",
    "c=company[2].find_all('p',class_='infoEntity')[2].text.strip()\n",
    "d=company[3].find_all('p',class_='infoEntity')[3].text.strip()"
   ]
  },
  {
   "cell_type": "code",
   "execution_count": 22,
   "id": "b15bc994-8370-4ef3-8bd5-526edb8015cf",
   "metadata": {},
   "outputs": [
    {
     "name": "stdout",
     "output_type": "stream",
     "text": [
      "Public\n"
     ]
    }
   ],
   "source": [
    "print(a)"
   ]
  },
  {
   "cell_type": "code",
   "execution_count": 23,
   "id": "94e9c545-6637-4e42-8fdf-8791406ecb15",
   "metadata": {},
   "outputs": [
    {
     "data": {
      "text/plain": [
       "'Dublin + 142 more'"
      ]
     },
     "execution_count": 23,
     "metadata": {},
     "output_type": "execute_result"
    }
   ],
   "source": [
    "b"
   ]
  },
  {
   "cell_type": "code",
   "execution_count": 24,
   "id": "76691a5e-ec5a-4b92-99bd-a86112011486",
   "metadata": {},
   "outputs": [
    {
     "data": {
      "text/plain": [
       "'28 years old'"
      ]
     },
     "execution_count": 24,
     "metadata": {},
     "output_type": "execute_result"
    }
   ],
   "source": [
    "c"
   ]
  },
  {
   "cell_type": "code",
   "execution_count": 25,
   "id": "add3ab41-95fc-4f7c-9336-9f1aa52d96de",
   "metadata": {},
   "outputs": [
    {
     "data": {
      "text/plain": [
       "'1 Lakh+ Employees (India)'"
      ]
     },
     "execution_count": 25,
     "metadata": {},
     "output_type": "execute_result"
    }
   ],
   "source": [
    "d"
   ]
  },
  {
   "cell_type": "markdown",
   "id": "d02176ec-88fd-42d1-ba91-b49bef873993",
   "metadata": {},
   "source": [
    "### so this has same class name that the mane reason we use this method and next we store them in different varialbles"
   ]
  },
  {
   "cell_type": "code",
   "execution_count": 26,
   "id": "23f71af6-060a-4296-9019-c431c868c888",
   "metadata": {},
   "outputs": [],
   "source": [
    "name=[]\n",
    "rating=[]\n",
    "reviews=[]\n",
    "ctype=[]\n",
    "hq=[]\n",
    "how_old=[]\n",
    "no_of_employee=[]\n",
    "for i in company :\n",
    "    name.append(i.find('h2').text.strip()) #we use find here because this perticular container has only 1 \"h2\" value\n",
    "    rating.append(i.find('p',class_= 'rating').text.strip())\n",
    "    reviews.append(i.find('a',class_= 'review-count sbold-Labels').text.strip())\n",
    "    ctype.append(i.find_all('p',class_='infoEntity')[0].text.strip())\n",
    "    hq.append(i.find_all('p',class_ = 'infoEntity')[1].text.strip())\n",
    "    how_old.append(i.find_all('p',class_ = 'infoEntity')[2].text.strip())\n",
    "    no_of_employee.append(i.find_all('p',class_ = 'infoEntity')[3].text.strip())"
   ]
  },
  {
   "cell_type": "markdown",
   "id": "ba385e17-6685-4d1d-9ed5-f939426636e4",
   "metadata": {},
   "source": [
    "### Now we need to store these values in DataFrame\n"
   ]
  },
  {
   "cell_type": "code",
   "execution_count": 27,
   "id": "12c9bca3-3364-4cc8-8e19-c184134be1ef",
   "metadata": {},
   "outputs": [],
   "source": [
    "df = pd.DataFrame({\"name\":name,\"rating\":rating,\"reviews\":reviews,\"Company_type\":ctype,\"Head_Quator\":hq,\"Company_age\":how_old,\"No_of_Employees\":no_of_employee})"
   ]
  },
  {
   "cell_type": "code",
   "execution_count": 28,
   "id": "51d95380-692e-4ab2-8678-dae69f2c516b",
   "metadata": {},
   "outputs": [
    {
     "data": {
      "text/html": [
       "<div>\n",
       "<style scoped>\n",
       "    .dataframe tbody tr th:only-of-type {\n",
       "        vertical-align: middle;\n",
       "    }\n",
       "\n",
       "    .dataframe tbody tr th {\n",
       "        vertical-align: top;\n",
       "    }\n",
       "\n",
       "    .dataframe thead th {\n",
       "        text-align: right;\n",
       "    }\n",
       "</style>\n",
       "<table border=\"1\" class=\"dataframe\">\n",
       "  <thead>\n",
       "    <tr style=\"text-align: right;\">\n",
       "      <th></th>\n",
       "      <th>name</th>\n",
       "      <th>rating</th>\n",
       "      <th>reviews</th>\n",
       "      <th>Company_type</th>\n",
       "      <th>Head_Quator</th>\n",
       "      <th>Company_age</th>\n",
       "      <th>No_of_Employees</th>\n",
       "    </tr>\n",
       "  </thead>\n",
       "  <tbody>\n",
       "    <tr>\n",
       "      <th>0</th>\n",
       "      <td>TCS</td>\n",
       "      <td>3.9</td>\n",
       "      <td>(50.5k Reviews)</td>\n",
       "      <td>Public</td>\n",
       "      <td>Mumbai,Maharashtra + 278 more</td>\n",
       "      <td>54 years old</td>\n",
       "      <td>1 Lakh+ Employees (India)</td>\n",
       "    </tr>\n",
       "    <tr>\n",
       "      <th>1</th>\n",
       "      <td>Accenture</td>\n",
       "      <td>4.1</td>\n",
       "      <td>(32.8k Reviews)</td>\n",
       "      <td>Public</td>\n",
       "      <td>Dublin + 142 more</td>\n",
       "      <td>33 years old</td>\n",
       "      <td>1 Lakh+ Employees (India)</td>\n",
       "    </tr>\n",
       "    <tr>\n",
       "      <th>2</th>\n",
       "      <td>Cognizant</td>\n",
       "      <td>3.9</td>\n",
       "      <td>(30k Reviews)</td>\n",
       "      <td>Private</td>\n",
       "      <td>Teaneck. New Jersey. + 100 more</td>\n",
       "      <td>28 years old</td>\n",
       "      <td>1 Lakh+ Employees (India)</td>\n",
       "    </tr>\n",
       "    <tr>\n",
       "      <th>3</th>\n",
       "      <td>ICICI Bank</td>\n",
       "      <td>4.0</td>\n",
       "      <td>(35.2k Reviews)</td>\n",
       "      <td>Public</td>\n",
       "      <td>Mumbai,Maharashtra + 1046 more</td>\n",
       "      <td>28 years old</td>\n",
       "      <td>1 Lakh+ Employees (India)</td>\n",
       "    </tr>\n",
       "    <tr>\n",
       "      <th>4</th>\n",
       "      <td>HDFC Bank</td>\n",
       "      <td>4.0</td>\n",
       "      <td>(40.3k Reviews)</td>\n",
       "      <td>Public</td>\n",
       "      <td>Mumbai,Maharashtra + 1225 more</td>\n",
       "      <td>28 years old</td>\n",
       "      <td>1 Lakh+ Employees (India)</td>\n",
       "    </tr>\n",
       "    <tr>\n",
       "      <th>5</th>\n",
       "      <td>Wipro</td>\n",
       "      <td>3.9</td>\n",
       "      <td>(29.1k Reviews)</td>\n",
       "      <td>Public</td>\n",
       "      <td>Bangalore/Bengaluru,Karnataka + 231 more</td>\n",
       "      <td>77 years old</td>\n",
       "      <td>1 Lakh+ Employees (India)</td>\n",
       "    </tr>\n",
       "    <tr>\n",
       "      <th>6</th>\n",
       "      <td>Infosys</td>\n",
       "      <td>3.9</td>\n",
       "      <td>(28.6k Reviews)</td>\n",
       "      <td>Public</td>\n",
       "      <td>Bengaluru/Bangalore,Karnataka + 126 more</td>\n",
       "      <td>41 years old</td>\n",
       "      <td>1 Lakh+ Employees (India)</td>\n",
       "    </tr>\n",
       "    <tr>\n",
       "      <th>7</th>\n",
       "      <td>Capgemini</td>\n",
       "      <td>3.9</td>\n",
       "      <td>(24.3k Reviews)</td>\n",
       "      <td>Public</td>\n",
       "      <td>Paris + 80 more</td>\n",
       "      <td>55 years old</td>\n",
       "      <td>1 Lakh+ Employees (India)</td>\n",
       "    </tr>\n",
       "    <tr>\n",
       "      <th>8</th>\n",
       "      <td>Tech Mahindra</td>\n",
       "      <td>3.7</td>\n",
       "      <td>(22.1k Reviews)</td>\n",
       "      <td>Public</td>\n",
       "      <td>Pune,Maharashtra + 217 more</td>\n",
       "      <td>36 years old</td>\n",
       "      <td>50k-1 Lakh Employees (India)</td>\n",
       "    </tr>\n",
       "    <tr>\n",
       "      <th>9</th>\n",
       "      <td>Genpact</td>\n",
       "      <td>4.0</td>\n",
       "      <td>(21.3k Reviews)</td>\n",
       "      <td>Public</td>\n",
       "      <td>New York,New York + 67 more</td>\n",
       "      <td>25 years old</td>\n",
       "      <td>50k-1 Lakh Employees (India)</td>\n",
       "    </tr>\n",
       "    <tr>\n",
       "      <th>10</th>\n",
       "      <td>HCLTech</td>\n",
       "      <td>3.8</td>\n",
       "      <td>(18.8k Reviews)</td>\n",
       "      <td>Public</td>\n",
       "      <td>Noida + 142 more</td>\n",
       "      <td>31 years old</td>\n",
       "      <td>1 Lakh+ Employees (India)</td>\n",
       "    </tr>\n",
       "    <tr>\n",
       "      <th>11</th>\n",
       "      <td>Amazon</td>\n",
       "      <td>4.3</td>\n",
       "      <td>(18.6k Reviews)</td>\n",
       "      <td>Public</td>\n",
       "      <td>Seattle,Washington + 387 more</td>\n",
       "      <td>28 years old</td>\n",
       "      <td>1 Lakh+ Employees (India)</td>\n",
       "    </tr>\n",
       "    <tr>\n",
       "      <th>12</th>\n",
       "      <td>Axis Bank</td>\n",
       "      <td>3.9</td>\n",
       "      <td>(19.3k Reviews)</td>\n",
       "      <td>Public</td>\n",
       "      <td>Mumbai,Maharashtra + 1078 more</td>\n",
       "      <td>29 years old</td>\n",
       "      <td>1 Lakh+ Employees (India)</td>\n",
       "    </tr>\n",
       "    <tr>\n",
       "      <th>13</th>\n",
       "      <td>IBM</td>\n",
       "      <td>4.2</td>\n",
       "      <td>(15.8k Reviews)</td>\n",
       "      <td>Public</td>\n",
       "      <td>Armonk,New York + 122 more</td>\n",
       "      <td>111 years old</td>\n",
       "      <td>1 Lakh+ Employees (India)</td>\n",
       "    </tr>\n",
       "    <tr>\n",
       "      <th>14</th>\n",
       "      <td>Concentrix Corpo...</td>\n",
       "      <td>4.0</td>\n",
       "      <td>(15.3k Reviews)</td>\n",
       "      <td>Public</td>\n",
       "      <td>Fremont,California + 71 more</td>\n",
       "      <td>39 years old</td>\n",
       "      <td>10k-50k Employees (India)</td>\n",
       "    </tr>\n",
       "    <tr>\n",
       "      <th>15</th>\n",
       "      <td>Reliance jio</td>\n",
       "      <td>4.0</td>\n",
       "      <td>(15.2k Reviews)</td>\n",
       "      <td>Public</td>\n",
       "      <td>Navi Mumbai,Maharashtra + 969 more</td>\n",
       "      <td>15 years old</td>\n",
       "      <td>50k-1 Lakh Employees (India)</td>\n",
       "    </tr>\n",
       "    <tr>\n",
       "      <th>16</th>\n",
       "      <td>Larsen &amp; Toubro ...</td>\n",
       "      <td>4.1</td>\n",
       "      <td>(25.1k Reviews)</td>\n",
       "      <td>Public</td>\n",
       "      <td>Mumbai,Maharashtra + 525 more</td>\n",
       "      <td>84 years old</td>\n",
       "      <td>10k-50k Employees (India)</td>\n",
       "    </tr>\n",
       "    <tr>\n",
       "      <th>17</th>\n",
       "      <td>Vodafone Idea</td>\n",
       "      <td>4.2</td>\n",
       "      <td>(14k Reviews)</td>\n",
       "      <td>Public</td>\n",
       "      <td>Gandhinagar,Gujrat + 564 more</td>\n",
       "      <td>4 years old</td>\n",
       "      <td>10k-50k Employees (India)</td>\n",
       "    </tr>\n",
       "    <tr>\n",
       "      <th>18</th>\n",
       "      <td>HDB Financial Se...</td>\n",
       "      <td>4.0</td>\n",
       "      <td>(13.5k Reviews)</td>\n",
       "      <td>Private</td>\n",
       "      <td>Ahmedabad,Gujrat + 780 more</td>\n",
       "      <td>15 years old</td>\n",
       "      <td>1 Lakh+ Employees (India)</td>\n",
       "    </tr>\n",
       "    <tr>\n",
       "      <th>19</th>\n",
       "      <td>Teleperformance</td>\n",
       "      <td>3.6</td>\n",
       "      <td>(14.6k Reviews)</td>\n",
       "      <td>Private</td>\n",
       "      <td>Paris + 124 more</td>\n",
       "      <td>44 years old</td>\n",
       "      <td>50k-1 Lakh Employees (India)</td>\n",
       "    </tr>\n",
       "    <tr>\n",
       "      <th>20</th>\n",
       "      <td>Kotak Mahindra B...</td>\n",
       "      <td>3.9</td>\n",
       "      <td>(13.9k Reviews)</td>\n",
       "      <td>Public</td>\n",
       "      <td>Mumbai,Maharashtra + 472 more</td>\n",
       "      <td>19 years old</td>\n",
       "      <td>50k-1 Lakh Employees (India)</td>\n",
       "    </tr>\n",
       "    <tr>\n",
       "      <th>21</th>\n",
       "      <td>Reliance Industr...</td>\n",
       "      <td>4.1</td>\n",
       "      <td>(44.5k Reviews)</td>\n",
       "      <td>Public</td>\n",
       "      <td>Navi Mumbai,Maharashtra + 488 more</td>\n",
       "      <td>49 years old</td>\n",
       "      <td>1 Lakh+ Employees (India)</td>\n",
       "    </tr>\n",
       "    <tr>\n",
       "      <th>22</th>\n",
       "      <td>Bharti Airtel</td>\n",
       "      <td>4.1</td>\n",
       "      <td>(13k Reviews)</td>\n",
       "      <td>Public</td>\n",
       "      <td>Gurgaon/Gurugram,Haryana + 512 more</td>\n",
       "      <td>27 years old</td>\n",
       "      <td>10k-50k Employees (India)</td>\n",
       "    </tr>\n",
       "    <tr>\n",
       "      <th>23</th>\n",
       "      <td>Reliance Retail</td>\n",
       "      <td>4.1</td>\n",
       "      <td>(16k Reviews)</td>\n",
       "      <td>Private</td>\n",
       "      <td>Navi Mumbai,Maharashtra + 659 more</td>\n",
       "      <td>16 years old</td>\n",
       "      <td>1 Lakh+ Employees (India)</td>\n",
       "    </tr>\n",
       "    <tr>\n",
       "      <th>24</th>\n",
       "      <td>Deloitte</td>\n",
       "      <td>4.1</td>\n",
       "      <td>(10.4k Reviews)</td>\n",
       "      <td>Private</td>\n",
       "      <td>New York,New York + 134 more</td>\n",
       "      <td>177 years old</td>\n",
       "      <td>50k-1 Lakh Employees (India)</td>\n",
       "    </tr>\n",
       "    <tr>\n",
       "      <th>25</th>\n",
       "      <td>Tata Motors</td>\n",
       "      <td>4.1</td>\n",
       "      <td>(12.6k Reviews)</td>\n",
       "      <td>Public</td>\n",
       "      <td>Pune,Maharashtra + 394 more</td>\n",
       "      <td>77 years old</td>\n",
       "      <td>10k-50k Employees (India)</td>\n",
       "    </tr>\n",
       "    <tr>\n",
       "      <th>26</th>\n",
       "      <td>BYJU'S</td>\n",
       "      <td>3.5</td>\n",
       "      <td>(12.4k Reviews)</td>\n",
       "      <td>Private</td>\n",
       "      <td>Bangalore,Karnataka + 215 more</td>\n",
       "      <td>11 years old</td>\n",
       "      <td>1k-5k Employees (India)</td>\n",
       "    </tr>\n",
       "    <tr>\n",
       "      <th>27</th>\n",
       "      <td>WNS</td>\n",
       "      <td>3.7</td>\n",
       "      <td>(7.1k Reviews)</td>\n",
       "      <td>Private</td>\n",
       "      <td>Mumbai,Maharashtra + 23 more</td>\n",
       "      <td>26 years old</td>\n",
       "      <td>10k-50k Employees (India)</td>\n",
       "    </tr>\n",
       "    <tr>\n",
       "      <th>28</th>\n",
       "      <td>Mahindra &amp; Mahin...</td>\n",
       "      <td>3.9</td>\n",
       "      <td>(40.1k Reviews)</td>\n",
       "      <td>Public</td>\n",
       "      <td>Mumbai,Maharashtra + 410 more</td>\n",
       "      <td>77 years old</td>\n",
       "      <td>1 Lakh+ Employees (India)</td>\n",
       "    </tr>\n",
       "    <tr>\n",
       "      <th>29</th>\n",
       "      <td>Flipkart</td>\n",
       "      <td>4.2</td>\n",
       "      <td>(11.7k Reviews)</td>\n",
       "      <td>Public</td>\n",
       "      <td>Bangalore,Karnataka + 441 more</td>\n",
       "      <td>15 years old</td>\n",
       "      <td>50k-1 Lakh Employees (India)</td>\n",
       "    </tr>\n",
       "  </tbody>\n",
       "</table>\n",
       "</div>"
      ],
      "text/plain": [
       "                   name rating          reviews Company_type  \\\n",
       "0                   TCS    3.9  (50.5k Reviews)       Public   \n",
       "1             Accenture    4.1  (32.8k Reviews)       Public   \n",
       "2             Cognizant    3.9    (30k Reviews)      Private   \n",
       "3            ICICI Bank    4.0  (35.2k Reviews)       Public   \n",
       "4             HDFC Bank    4.0  (40.3k Reviews)       Public   \n",
       "5                 Wipro    3.9  (29.1k Reviews)       Public   \n",
       "6               Infosys    3.9  (28.6k Reviews)       Public   \n",
       "7             Capgemini    3.9  (24.3k Reviews)       Public   \n",
       "8         Tech Mahindra    3.7  (22.1k Reviews)       Public   \n",
       "9               Genpact    4.0  (21.3k Reviews)       Public   \n",
       "10              HCLTech    3.8  (18.8k Reviews)       Public   \n",
       "11               Amazon    4.3  (18.6k Reviews)       Public   \n",
       "12            Axis Bank    3.9  (19.3k Reviews)       Public   \n",
       "13                  IBM    4.2  (15.8k Reviews)       Public   \n",
       "14  Concentrix Corpo...    4.0  (15.3k Reviews)       Public   \n",
       "15         Reliance jio    4.0  (15.2k Reviews)       Public   \n",
       "16  Larsen & Toubro ...    4.1  (25.1k Reviews)       Public   \n",
       "17        Vodafone Idea    4.2    (14k Reviews)       Public   \n",
       "18  HDB Financial Se...    4.0  (13.5k Reviews)      Private   \n",
       "19      Teleperformance    3.6  (14.6k Reviews)      Private   \n",
       "20  Kotak Mahindra B...    3.9  (13.9k Reviews)       Public   \n",
       "21  Reliance Industr...    4.1  (44.5k Reviews)       Public   \n",
       "22        Bharti Airtel    4.1    (13k Reviews)       Public   \n",
       "23      Reliance Retail    4.1    (16k Reviews)      Private   \n",
       "24             Deloitte    4.1  (10.4k Reviews)      Private   \n",
       "25          Tata Motors    4.1  (12.6k Reviews)       Public   \n",
       "26               BYJU'S    3.5  (12.4k Reviews)      Private   \n",
       "27                  WNS    3.7   (7.1k Reviews)      Private   \n",
       "28  Mahindra & Mahin...    3.9  (40.1k Reviews)       Public   \n",
       "29             Flipkart    4.2  (11.7k Reviews)       Public   \n",
       "\n",
       "                                 Head_Quator    Company_age  \\\n",
       "0              Mumbai,Maharashtra + 278 more   54 years old   \n",
       "1                          Dublin + 142 more   33 years old   \n",
       "2            Teaneck. New Jersey. + 100 more   28 years old   \n",
       "3             Mumbai,Maharashtra + 1046 more   28 years old   \n",
       "4             Mumbai,Maharashtra + 1225 more   28 years old   \n",
       "5   Bangalore/Bengaluru,Karnataka + 231 more   77 years old   \n",
       "6   Bengaluru/Bangalore,Karnataka + 126 more   41 years old   \n",
       "7                            Paris + 80 more   55 years old   \n",
       "8                Pune,Maharashtra + 217 more   36 years old   \n",
       "9                New York,New York + 67 more   25 years old   \n",
       "10                          Noida + 142 more   31 years old   \n",
       "11             Seattle,Washington + 387 more   28 years old   \n",
       "12            Mumbai,Maharashtra + 1078 more   29 years old   \n",
       "13                Armonk,New York + 122 more  111 years old   \n",
       "14              Fremont,California + 71 more   39 years old   \n",
       "15        Navi Mumbai,Maharashtra + 969 more   15 years old   \n",
       "16             Mumbai,Maharashtra + 525 more   84 years old   \n",
       "17             Gandhinagar,Gujrat + 564 more    4 years old   \n",
       "18               Ahmedabad,Gujrat + 780 more   15 years old   \n",
       "19                          Paris + 124 more   44 years old   \n",
       "20             Mumbai,Maharashtra + 472 more   19 years old   \n",
       "21        Navi Mumbai,Maharashtra + 488 more   49 years old   \n",
       "22       Gurgaon/Gurugram,Haryana + 512 more   27 years old   \n",
       "23        Navi Mumbai,Maharashtra + 659 more   16 years old   \n",
       "24              New York,New York + 134 more  177 years old   \n",
       "25               Pune,Maharashtra + 394 more   77 years old   \n",
       "26            Bangalore,Karnataka + 215 more   11 years old   \n",
       "27              Mumbai,Maharashtra + 23 more   26 years old   \n",
       "28             Mumbai,Maharashtra + 410 more   77 years old   \n",
       "29            Bangalore,Karnataka + 441 more   15 years old   \n",
       "\n",
       "                 No_of_Employees  \n",
       "0      1 Lakh+ Employees (India)  \n",
       "1      1 Lakh+ Employees (India)  \n",
       "2      1 Lakh+ Employees (India)  \n",
       "3      1 Lakh+ Employees (India)  \n",
       "4      1 Lakh+ Employees (India)  \n",
       "5      1 Lakh+ Employees (India)  \n",
       "6      1 Lakh+ Employees (India)  \n",
       "7      1 Lakh+ Employees (India)  \n",
       "8   50k-1 Lakh Employees (India)  \n",
       "9   50k-1 Lakh Employees (India)  \n",
       "10     1 Lakh+ Employees (India)  \n",
       "11     1 Lakh+ Employees (India)  \n",
       "12     1 Lakh+ Employees (India)  \n",
       "13     1 Lakh+ Employees (India)  \n",
       "14     10k-50k Employees (India)  \n",
       "15  50k-1 Lakh Employees (India)  \n",
       "16     10k-50k Employees (India)  \n",
       "17     10k-50k Employees (India)  \n",
       "18     1 Lakh+ Employees (India)  \n",
       "19  50k-1 Lakh Employees (India)  \n",
       "20  50k-1 Lakh Employees (India)  \n",
       "21     1 Lakh+ Employees (India)  \n",
       "22     10k-50k Employees (India)  \n",
       "23     1 Lakh+ Employees (India)  \n",
       "24  50k-1 Lakh Employees (India)  \n",
       "25     10k-50k Employees (India)  \n",
       "26       1k-5k Employees (India)  \n",
       "27     10k-50k Employees (India)  \n",
       "28     1 Lakh+ Employees (India)  \n",
       "29  50k-1 Lakh Employees (India)  "
      ]
     },
     "execution_count": 28,
     "metadata": {},
     "output_type": "execute_result"
    }
   ],
   "source": [
    "df"
   ]
  },
  {
   "cell_type": "markdown",
   "id": "2eeb041e-f7a5-4347-8b92-be2c2c4f9215",
   "metadata": {},
   "source": [
    "# creating dataframe for all the pages"
   ]
  },
  {
   "cell_type": "code",
   "execution_count": 29,
   "id": "8b499dfa-6d0b-4e22-be78-4407d66fa4ea",
   "metadata": {},
   "outputs": [],
   "source": [
    "final_data = pd.DataFrame()"
   ]
  },
  {
   "cell_type": "code",
   "execution_count": 30,
   "id": "b1cb2a2f-dbe9-48be-8c49-44f1937c0cc0",
   "metadata": {},
   "outputs": [
    {
     "name": "stderr",
     "output_type": "stream",
     "text": [
      "C:\\Users\\hites\\AppData\\Local\\Temp\\ipykernel_13544\\3388097988.py:57: FutureWarning: The frame.append method is deprecated and will be removed from pandas in a future version. Use pandas.concat instead.\n",
      "  final_data = final_data.append(df,ignore_index=True)\n"
     ]
    }
   ],
   "source": [
    "for j in range(1,11):\n",
    "    webpage=requests.get('https://www.ambitionbox.com/list-of-companies?page={}',format(j)).text\n",
    "    soup = BeautifulSoup(webpage,'lxml') # Making this data little bit readable\n",
    "    company=soup.find_all('div',class_='company-content-wrapper')\n",
    "    \n",
    "    \n",
    "    name=[]\n",
    "    rating=[]\n",
    "    reviews=[]\n",
    "    ctype=[]\n",
    "    hq=[]\n",
    "    how_old=[]\n",
    "    no_of_employee=[]\n",
    "    for i in company:\n",
    "        try:\n",
    "           name.append(i.find('h2').text.strip())\n",
    "        except:\n",
    "           name.append(np.nan)\n",
    "\n",
    "        try:\n",
    "           rating.append(i.find('p',class_='rating').text.strip())\n",
    "        except:\n",
    "           rating.append(np.nan)\n",
    "\n",
    "        try:\n",
    "\n",
    "          reviews.append(i.find('a' , class_='review-count').text.strip())\n",
    "        except:\n",
    "          reviews.append(np.nan)\n",
    "\n",
    "        try:\n",
    "\n",
    "          ctype.append(i.find_all('p',class_='infoEntity')[0].text.strip())\n",
    "        except:\n",
    "          ctype.append(np.nan)\n",
    "        try:\n",
    "\n",
    "          hq.append(i.find_all('p',class_='infoEntity')[1].text.strip())\n",
    "        except:\n",
    "          hq.append(np.nan)\n",
    "\n",
    "        try:\n",
    "\n",
    "          how_old.append(i.find_all('p',class_='infoEntity')[2].text.strip())\n",
    "        except:\n",
    "          how_old.append(np.nan)\n",
    "        try:\n",
    "          no_of_employee.append(i.find_all('p',class_='infoEntity')[3].text.strip())\n",
    "        except:\n",
    "          no_of_employee.append(np.nan)\n",
    "        \n",
    "        \n",
    "        \n",
    "        \n",
    "\n",
    "    df = pd.DataFrame({\"name\":name,\"rating\":rating,\"reviews\":reviews,\"Company_type\":ctype,\"Head_Quator\":hq,\"Company_age\":how_old,\"No_of_Employees\":no_of_employee})\n",
    "    final_data = final_data.append(df,ignore_index=True)\n",
    "    "
   ]
  },
  {
   "cell_type": "code",
   "execution_count": 31,
   "id": "7df6c488-b851-4448-a247-df96be81fb68",
   "metadata": {},
   "outputs": [
    {
     "data": {
      "text/plain": [
       "(0, 7)"
      ]
     },
     "execution_count": 31,
     "metadata": {},
     "output_type": "execute_result"
    }
   ],
   "source": [
    "final_data.shape"
   ]
  },
  {
   "cell_type": "code",
   "execution_count": 32,
   "id": "39e53e55-73bc-4389-a913-0c5a99c2641a",
   "metadata": {},
   "outputs": [
    {
     "data": {
      "text/html": [
       "<div>\n",
       "<style scoped>\n",
       "    .dataframe tbody tr th:only-of-type {\n",
       "        vertical-align: middle;\n",
       "    }\n",
       "\n",
       "    .dataframe tbody tr th {\n",
       "        vertical-align: top;\n",
       "    }\n",
       "\n",
       "    .dataframe thead th {\n",
       "        text-align: right;\n",
       "    }\n",
       "</style>\n",
       "<table border=\"1\" class=\"dataframe\">\n",
       "  <thead>\n",
       "    <tr style=\"text-align: right;\">\n",
       "      <th></th>\n",
       "      <th>name</th>\n",
       "      <th>rating</th>\n",
       "      <th>reviews</th>\n",
       "      <th>Company_type</th>\n",
       "      <th>Head_Quator</th>\n",
       "      <th>Company_age</th>\n",
       "      <th>No_of_Employees</th>\n",
       "    </tr>\n",
       "  </thead>\n",
       "  <tbody>\n",
       "  </tbody>\n",
       "</table>\n",
       "</div>"
      ],
      "text/plain": [
       "Empty DataFrame\n",
       "Columns: [name, rating, reviews, Company_type, Head_Quator, Company_age, No_of_Employees]\n",
       "Index: []"
      ]
     },
     "execution_count": 32,
     "metadata": {},
     "output_type": "execute_result"
    }
   ],
   "source": [
    "df"
   ]
  },
  {
   "cell_type": "code",
   "execution_count": null,
   "id": "6c0ccdfc-0952-4b39-9094-97e70a69253a",
   "metadata": {},
   "outputs": [],
   "source": []
  }
 ],
 "metadata": {
  "kernelspec": {
   "display_name": "Python 3 (ipykernel)",
   "language": "python",
   "name": "python3"
  },
  "language_info": {
   "codemirror_mode": {
    "name": "ipython",
    "version": 3
   },
   "file_extension": ".py",
   "mimetype": "text/x-python",
   "name": "python",
   "nbconvert_exporter": "python",
   "pygments_lexer": "ipython3",
   "version": "3.9.13"
  }
 },
 "nbformat": 4,
 "nbformat_minor": 5
}
